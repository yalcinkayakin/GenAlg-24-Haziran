{
 "cells": [
  {
   "cell_type": "code",
   "execution_count": 1,
   "metadata": {
    "collapsed": true
   },
   "outputs": [],
   "source": [
    "import random\n",
    "from operator import attrgetter\n",
    "from collections import Counter\n",
    "\n",
    "try:\n",
    "    del Counter.__reduce__\n",
    "except: pass\n",
    "\n",
    "import numpy\n",
    "\n",
    "\n",
    "from deap import algorithms\n",
    "from deap import base\n",
    "from deap import creator\n",
    "from deap import tools\n"
   ]
  },
  {
   "cell_type": "code",
   "execution_count": 3,
   "metadata": {},
   "outputs": [],
   "source": [
    "ITEMS = {\n",
    "    'AKP':(42.5,37),\n",
    "    'CHP':(27.1,23,4),\n",
    "    'İYİ':(16.7,15,7),\n",
    "    'HDP':(11.0,14,1),\n",
    "    'SAADET':(2.5,3)}\n",
    "\n",
    "ITEMS_NAME =list(ITEMS.keys())"
   ]
  },
  {
   "cell_type": "code",
   "execution_count": 4,
   "metadata": {
    "collapsed": true
   },
   "outputs": [],
   "source": [
    "creator.create(\"FitnessMulti\",base.Fitness,weights=(1.0,-1.0,1.0))\n",
    "\n",
    "creator.create(\"Individual\",Counter,fitness=creator.FitnessMulti)\n",
    "\n",
    "\n",
    "IND_INIT_SIZE=2\n",
    "\n",
    "toolbox=base.Toolbox()\n",
    "\n",
    "toolbox.register(\"attr_item\", random.choice, ITEMS_NAME)\n",
    "toolbox.register(\"individual\", tools.initRepeat, creator.Individual, toolbox.attr_item, IND_INIT_SIZE)\n",
    "toolbox.register(\"population\", tools.initRepeat, list, toolbox.individual)\n"
   ]
  },
  {
   "cell_type": "code",
   "execution_count": 5,
   "metadata": {
    "collapsed": true
   },
   "outputs": [],
   "source": [
    "def evalXKCD(individual, target_rate):\n",
    "    milletvekili = 0.0\n",
    "    sandik= [0]\n",
    "    oy= 0\n",
    "    for item, number in individual.items():\n",
    "        if number > 0:\n",
    "            milletvekili += ITEMS[item][0] * number\n",
    "            sandik.append(ITEMS[item][1])\n",
    "            oy += number\n",
    "    return (milletvekili - target_rate), max(sandik), oy"
   ]
  },
  {
   "cell_type": "code",
   "execution_count": 7,
   "metadata": {},
   "outputs": [
    {
     "data": {
      "text/plain": [
       "(29.599999999999994, 37, 3)"
      ]
     },
     "execution_count": 7,
     "metadata": {},
     "output_type": "execute_result"
    }
   ],
   "source": [
    "evalXKCD(creator.Individual({'AKP':1,\n",
    "    'CHP':1,\n",
    "    'İYİ':0,\n",
    "    'HDP':1,\n",
    "    'SAADET':0}),51.0)"
   ]
  },
  {
   "cell_type": "code",
   "execution_count": 8,
   "metadata": {
    "collapsed": true
   },
   "outputs": [],
   "source": [
    "def cxCounter(ind1, ind2, indpb):\n",
    "    \"\"\"Swaps the number of randomly-chosen items between two individuals\"\"\"\n",
    "    for key in ITEMS.keys():\n",
    "        if random.random() < indpb:\n",
    "            ind1[key], ind2[key] = ind2[key], ind1[key]\n",
    "    return ind1, ind2"
   ]
  },
  {
   "cell_type": "code",
   "execution_count": 9,
   "metadata": {},
   "outputs": [
    {
     "data": {
      "text/plain": [
       "(Individual({'AKP': 0,\n",
       "             'CHP': 0,\n",
       "             'HDP': 0,\n",
       "             'SAADET': 0,\n",
       "             '\\xc4\\xb0Y\\xc4\\xb0': 0}),\n",
       " Individual({'AKP': 0,\n",
       "             'CHP': 0,\n",
       "             'HDP': 0,\n",
       "             'SAADET': 0,\n",
       "             '\\xc4\\xb0Y\\xc4\\xb0': 0}))"
      ]
     },
     "execution_count": 9,
     "metadata": {},
     "output_type": "execute_result"
    }
   ],
   "source": [
    "cxCounter(creator.Individual({'AKP':0,\n",
    "    'CHP':0,\n",
    "    'İYİ':0,\n",
    "    'HDP':0,\n",
    "    'SAADET':0}),\n",
    "    creator.Individual({'AKP':0,\n",
    "    'CHP':0,\n",
    "    'İYİ':0,\n",
    "    'HDP':0,\n",
    "    'SAADET':0}),0.50)\n",
    "    \n"
   ]
  },
  {
   "cell_type": "code",
   "execution_count": 10,
   "metadata": {
    "collapsed": true
   },
   "outputs": [],
   "source": [
    "def mutCounter(individual):\n",
    "    \"\"\"Adds or remove an item from an individual\"\"\"\n",
    "    if random.random() > 0.5:\n",
    "        individual.update([random.choice(ITEMS_NAME)])\n",
    "    else:\n",
    "        val = random.choice(ITEMS_NAME)\n",
    "        individual.subtract([val])\n",
    "        if individual[val] < 0:\n",
    "            del individual[val]\n",
    "    return individual,"
   ]
  },
  {
   "cell_type": "code",
   "execution_count": 12,
   "metadata": {},
   "outputs": [
    {
     "data": {
      "text/plain": [
       "(Individual({'AKP': 1,\n",
       "             'CHP': 0,\n",
       "             'HDP': 1,\n",
       "             'SAADET': 0,\n",
       "             '\\xc4\\xb0Y\\xc4\\xb0': 0}),)"
      ]
     },
     "execution_count": 12,
     "metadata": {},
     "output_type": "execute_result"
    }
   ],
   "source": [
    "mutCounter(creator.Individual({'AKP':1,\n",
    "    'CHP':1,\n",
    "    'İYİ':0,\n",
    "    'HDP':1,\n",
    "    'SAADET':0}))"
   ]
  },
  {
   "cell_type": "code",
   "execution_count": 13,
   "metadata": {
    "collapsed": true
   },
   "outputs": [],
   "source": [
    "import sys\n",
    "\n",
    "toolbox.register(\"evaluate\", evalXKCD, target_rate=51.0)\n",
    "\n",
    "\n",
    "toolbox.decorate(\"evaluate\", tools.DeltaPenalty(lambda ind: evalXKCD(ind, 15.05)[0] <= 0,\n",
    "                                               (-sys.float_info.max,\n",
    "                                                sys.float_info.max,\n",
    "                                                -sys.float_info.max)))\n",
    "toolbox.register(\"mate\", cxCounter, indpb=0.5)\n",
    "toolbox.register(\"mutate\", mutCounter)\n",
    "toolbox.register(\"select\", tools.selNSGA2)"
   ]
  },
  {
   "cell_type": "code",
   "execution_count": 14,
   "metadata": {
    "collapsed": true
   },
   "outputs": [],
   "source": [
    "NGEN=100\n",
    "\n",
    "MU=50\n",
    "\n",
    "LAMBDA=20\n",
    "\n",
    "CXPB=0.3\n",
    "\n",
    "MUTPB=0.3\n",
    "\n",
    "pop=toolbox.population(n=MU)"
   ]
  },
  {
   "cell_type": "code",
   "execution_count": 15,
   "metadata": {},
   "outputs": [
    {
     "data": {
      "text/plain": [
       "[Individual({'HDP': 1, 'SAADET': 1}),\n",
       " Individual({'\\xc4\\xb0Y\\xc4\\xb0': 2}),\n",
       " Individual({'\\xc4\\xb0Y\\xc4\\xb0': 2}),\n",
       " Individual({'CHP': 1, '\\xc4\\xb0Y\\xc4\\xb0': 1}),\n",
       " Individual({'HDP': 1, '\\xc4\\xb0Y\\xc4\\xb0': 1}),\n",
       " Individual({'CHP': 2}),\n",
       " Individual({'HDP': 1, 'SAADET': 1}),\n",
       " Individual({'AKP': 1, 'HDP': 1}),\n",
       " Individual({'HDP': 2}),\n",
       " Individual({'CHP': 1, 'HDP': 1}),\n",
       " Individual({'CHP': 1, 'SAADET': 1}),\n",
       " Individual({'AKP': 1, '\\xc4\\xb0Y\\xc4\\xb0': 1}),\n",
       " Individual({'CHP': 1, 'HDP': 1}),\n",
       " Individual({'AKP': 1, '\\xc4\\xb0Y\\xc4\\xb0': 1}),\n",
       " Individual({'CHP': 1, '\\xc4\\xb0Y\\xc4\\xb0': 1}),\n",
       " Individual({'HDP': 1, 'SAADET': 1}),\n",
       " Individual({'AKP': 1, 'HDP': 1}),\n",
       " Individual({'CHP': 1, '\\xc4\\xb0Y\\xc4\\xb0': 1}),\n",
       " Individual({'CHP': 1, '\\xc4\\xb0Y\\xc4\\xb0': 1}),\n",
       " Individual({'CHP': 1, 'HDP': 1}),\n",
       " Individual({'HDP': 1, 'SAADET': 1}),\n",
       " Individual({'AKP': 1, 'CHP': 1}),\n",
       " Individual({'AKP': 2}),\n",
       " Individual({'CHP': 1, '\\xc4\\xb0Y\\xc4\\xb0': 1}),\n",
       " Individual({'HDP': 1, '\\xc4\\xb0Y\\xc4\\xb0': 1}),\n",
       " Individual({'CHP': 1, 'SAADET': 1}),\n",
       " Individual({'HDP': 2}),\n",
       " Individual({'CHP': 1, '\\xc4\\xb0Y\\xc4\\xb0': 1}),\n",
       " Individual({'\\xc4\\xb0Y\\xc4\\xb0': 2}),\n",
       " Individual({'SAADET': 2}),\n",
       " Individual({'CHP': 1, '\\xc4\\xb0Y\\xc4\\xb0': 1}),\n",
       " Individual({'CHP': 1, '\\xc4\\xb0Y\\xc4\\xb0': 1}),\n",
       " Individual({'SAADET': 2}),\n",
       " Individual({'AKP': 1, 'HDP': 1}),\n",
       " Individual({'HDP': 2}),\n",
       " Individual({'AKP': 1, 'HDP': 1}),\n",
       " Individual({'CHP': 1, 'HDP': 1}),\n",
       " Individual({'CHP': 1, '\\xc4\\xb0Y\\xc4\\xb0': 1}),\n",
       " Individual({'AKP': 1, 'CHP': 1}),\n",
       " Individual({'AKP': 1, 'HDP': 1}),\n",
       " Individual({'CHP': 1, '\\xc4\\xb0Y\\xc4\\xb0': 1}),\n",
       " Individual({'CHP': 2}),\n",
       " Individual({'HDP': 1, 'SAADET': 1}),\n",
       " Individual({'AKP': 1, 'SAADET': 1}),\n",
       " Individual({'CHP': 1, '\\xc4\\xb0Y\\xc4\\xb0': 1}),\n",
       " Individual({'CHP': 1, 'HDP': 1}),\n",
       " Individual({'SAADET': 2}),\n",
       " Individual({'CHP': 1, '\\xc4\\xb0Y\\xc4\\xb0': 1}),\n",
       " Individual({'CHP': 1, 'HDP': 1}),\n",
       " Individual({'CHP': 2})]"
      ]
     },
     "execution_count": 15,
     "metadata": {},
     "output_type": "execute_result"
    }
   ],
   "source": [
    "pop"
   ]
  },
  {
   "cell_type": "code",
   "execution_count": 16,
   "metadata": {},
   "outputs": [
    {
     "name": "stdout",
     "output_type": "stream",
     "text": [
      "   \t      \tmilletvekili\t oy \tsandik\n",
      "   \t      \t----        \t----\t---   \n",
      "gen\tnevals\tavg         \tavg \tavg   \n",
      "0  \t50    \t-inf        \t-inf\tinf   \n",
      "1  \t15    \t-inf        \t-inf\tinf   \n",
      "2  \t13    \t-inf        \t-inf\tinf   \n",
      "3  \t13    \t-inf        \t-inf\tinf   \n",
      "4  \t9     \t-inf        \t-inf\tinf   \n",
      "5  \t14    \t-inf        \t-inf\tinf   \n",
      "6  \t9     \t-40.45      \t1.84\t10.46 \n",
      "7  \t9     \t-41.91      \t1.8 \t8.64  \n",
      "8  \t9     \t-43.64      \t1.72\t6.54  \n",
      "9  \t14    \t-42.52      \t1.76\t7.86  \n",
      "10 \t7     \t-41.7       \t1.68\t9.06  \n",
      "11 \t12    \t-40.71      \t1.6 \t10.48 \n",
      "12 \t8     \t-40.98      \t1.56\t10.2  \n",
      "13 \t9     \t-42.06      \t1.4 \t9.08  \n",
      "14 \t9     \t-43.51      \t1.16\t7.62  \n",
      "15 \t11    \t-41.22      \t1.6 \t9.7   \n",
      "16 \t12    \t-42.64      \t1.44\t8.08  \n",
      "17 \t11    \t-40.48      \t1.76\t10.32 \n",
      "18 \t9     \t-41.16      \t1.76\t9.32  \n",
      "19 \t13    \t-41.91      \t1.8 \t8.1   \n",
      "20 \t10    \t-40.02      \t2.08\t10.06 \n",
      "21 \t9     \t-40.97      \t2.04\t8.78  \n",
      "22 \t15    \t-42.33      \t2.04\t6.78  \n",
      "23 \t14    \t-44.23      \t1.96\t4.22  \n",
      "24 \t11    \t-44.58      \t1.48\t5.08  \n",
      "25 \t14    \t-46.18      \t0.84\t4.6   \n",
      "26 \t10    \t-48.63      \t0.54\t1.86  \n",
      "27 \t14    \t-49.98      \t0.34\t0.46  \n",
      "28 \t10    \t-49.98      \t0.34\t0.46  \n",
      "29 \t13    \t-49.73      \t0.44\t0.52  \n",
      "30 \t11    \t-50.7       \t0.12\t0.06  \n",
      "31 \t13    \t-50.4       \t0.24\t0.12  \n",
      "32 \t13    \t-50.1       \t0.36\t0.18  \n",
      "33 \t12    \t-50.7       \t0.12\t0.06  \n",
      "34 \t14    \t-50.4       \t0.24\t0.12  \n",
      "35 \t14    \t-50.4       \t0.24\t0.12  \n",
      "36 \t11    \t-50.4       \t0.24\t0.12  \n",
      "37 \t10    \t-50.1       \t0.36\t0.18  \n",
      "38 \t11    \t-50.1       \t0.36\t0.18  \n",
      "39 \t13    \t-50.7       \t0.12\t0.06  \n",
      "40 \t11    \t-50.7       \t0.12\t0.06  \n",
      "41 \t15    \t-50.7       \t0.12\t0.06  \n",
      "42 \t12    \t-50.4       \t0.24\t0.12  \n",
      "43 \t10    \t-50.7       \t0.12\t0.06  \n",
      "44 \t10    \t-50.7       \t0.12\t0.06  \n",
      "45 \t11    \t-50.4       \t0.24\t0.12  \n",
      "46 \t13    \t-50.4       \t0.24\t0.12  \n",
      "47 \t12    \t-50.4       \t0.24\t0.12  \n",
      "48 \t11    \t-49.8       \t0.48\t0.24  \n",
      "49 \t11    \t-50.7       \t0.12\t0.06  \n",
      "50 \t11    \t-50.4       \t0.24\t0.12  \n",
      "51 \t13    \t-50.4       \t0.24\t0.12  \n",
      "52 \t11    \t-50.4       \t0.24\t0.12  \n",
      "53 \t10    \t-50.4       \t0.24\t0.12  \n",
      "54 \t13    \t-50.1       \t0.36\t0.18  \n",
      "55 \t9     \t-50.1       \t0.36\t0.18  \n",
      "56 \t13    \t-50.4       \t0.24\t0.12  \n",
      "57 \t10    \t-50.4       \t0.24\t0.12  \n",
      "58 \t12    \t-50.1       \t0.36\t0.18  \n",
      "59 \t11    \t-50.4       \t0.24\t0.12  \n",
      "60 \t13    \t-50.4       \t0.24\t0.12  \n",
      "61 \t12    \t-50.7       \t0.12\t0.06  \n",
      "62 \t10    \t-50.7       \t0.12\t0.06  \n",
      "63 \t10    \t-50.4       \t0.24\t0.12  \n",
      "64 \t12    \t-50.1       \t0.36\t0.18  \n",
      "65 \t15    \t-50.1       \t0.36\t0.18  \n",
      "66 \t15    \t-50.7       \t0.12\t0.06  \n",
      "67 \t14    \t-50.7       \t0.12\t0.06  \n",
      "68 \t12    \t-50.7       \t0.12\t0.06  \n",
      "69 \t10    \t-50.7       \t0.12\t0.06  \n",
      "70 \t12    \t-50.4       \t0.24\t0.12  \n",
      "71 \t11    \t-50.4       \t0.24\t0.12  \n",
      "72 \t12    \t-50.4       \t0.24\t0.12  \n",
      "73 \t10    \t-50.1       \t0.36\t0.18  \n",
      "74 \t11    \t-50.7       \t0.12\t0.06  \n",
      "75 \t14    \t-50.4       \t0.24\t0.12  \n",
      "76 \t11    \t-50.4       \t0.24\t0.12  \n",
      "77 \t16    \t-49.8       \t0.48\t0.24  \n",
      "78 \t9     \t-50.1       \t0.36\t0.18  \n",
      "79 \t10    \t-49.5       \t0.6 \t0.3   \n",
      "80 \t12    \t-49.5       \t0.6 \t0.3   \n",
      "81 \t16    \t-48.6       \t0.96\t0.48  \n",
      "82 \t14    \t-50.7       \t0.12\t0.06  \n",
      "83 \t10    \t-50.7       \t0.12\t0.06  \n",
      "84 \t16    \t-50.7       \t0.12\t0.06  \n",
      "85 \t9     \t-50.7       \t0.12\t0.06  \n",
      "86 \t11    \t-50.7       \t0.12\t0.06  \n",
      "87 \t13    \t-50.7       \t0.12\t0.06  \n",
      "88 \t10    \t-50.7       \t0.12\t0.06  \n",
      "89 \t12    \t-50.7       \t0.12\t0.06  \n",
      "90 \t10    \t-50.7       \t0.12\t0.06  \n",
      "91 \t11    \t-50.7       \t0.12\t0.06  \n",
      "92 \t16    \t-50.7       \t0.12\t0.06  \n",
      "93 \t11    \t-50.7       \t0.12\t0.06  \n",
      "94 \t7     \t-50.7       \t0.12\t0.06  \n",
      "95 \t12    \t-50.7       \t0.12\t0.06  \n",
      "96 \t9     \t-50.7       \t0.12\t0.06  \n",
      "97 \t12    \t-50.7       \t0.12\t0.06  \n",
      "98 \t11    \t-50.4       \t0.24\t0.12  \n",
      "99 \t10    \t-50.7       \t0.12\t0.06  \n",
      "100\t10    \t-50.7       \t0.12\t0.06  \n"
     ]
    },
    {
     "data": {
      "text/plain": [
       "([Individual({'CHP': 0, 'HDP': 0, 'SAADET': 6, '\\xc4\\xb0Y\\xc4\\xb0': 0}),\n",
       "  Individual({'CHP': 0, 'HDP': 0}),\n",
       "  Individual({'CHP': 0, 'HDP': 0}),\n",
       "  Individual({'CHP': 0, 'HDP': 0}),\n",
       "  Individual({'CHP': 0, 'HDP': 0}),\n",
       "  Individual({'CHP': 0, 'HDP': 0}),\n",
       "  Individual({'CHP': 0, 'HDP': 0}),\n",
       "  Individual({'CHP': 0, 'HDP': 0}),\n",
       "  Individual({'CHP': 0, 'HDP': 0}),\n",
       "  Individual({'CHP': 0, 'HDP': 0}),\n",
       "  Individual({'CHP': 0, 'HDP': 0}),\n",
       "  Individual({'CHP': 0, 'HDP': 0}),\n",
       "  Individual({'CHP': 0, 'HDP': 0}),\n",
       "  Individual({'CHP': 0, 'HDP': 0}),\n",
       "  Individual({'CHP': 0, 'HDP': 0}),\n",
       "  Individual({'CHP': 0, 'HDP': 0}),\n",
       "  Individual({'CHP': 0, 'HDP': 0}),\n",
       "  Individual({'CHP': 0, 'HDP': 0}),\n",
       "  Individual({'CHP': 0, 'HDP': 0}),\n",
       "  Individual({'CHP': 0, 'HDP': 0}),\n",
       "  Individual({'CHP': 0, 'HDP': 0}),\n",
       "  Individual({'CHP': 0, 'HDP': 0}),\n",
       "  Individual({'CHP': 0, 'HDP': 0}),\n",
       "  Individual({'CHP': 0, 'HDP': 0}),\n",
       "  Individual({'CHP': 0, 'HDP': 0}),\n",
       "  Individual({'CHP': 0, 'HDP': 0}),\n",
       "  Individual({'CHP': 0, 'HDP': 0}),\n",
       "  Individual({'CHP': 0, 'HDP': 0}),\n",
       "  Individual({'CHP': 0, 'HDP': 0}),\n",
       "  Individual({'CHP': 0, 'HDP': 0}),\n",
       "  Individual({'CHP': 0, 'HDP': 0}),\n",
       "  Individual({'CHP': 0, 'HDP': 0}),\n",
       "  Individual({'CHP': 0, 'HDP': 0}),\n",
       "  Individual({'CHP': 0, 'HDP': 0}),\n",
       "  Individual({'CHP': 0, 'HDP': 0}),\n",
       "  Individual({'CHP': 0, 'HDP': 0}),\n",
       "  Individual({'CHP': 0, 'HDP': 0}),\n",
       "  Individual({'CHP': 0, 'HDP': 0}),\n",
       "  Individual({'CHP': 0, 'HDP': 0}),\n",
       "  Individual({'CHP': 0, 'HDP': 0}),\n",
       "  Individual({'CHP': 0, 'HDP': 0}),\n",
       "  Individual({'CHP': 0, 'HDP': 0}),\n",
       "  Individual({'CHP': 0, 'HDP': 0}),\n",
       "  Individual({'CHP': 0, 'HDP': 0}),\n",
       "  Individual({'CHP': 0, 'HDP': 0}),\n",
       "  Individual({'CHP': 0, 'HDP': 0}),\n",
       "  Individual({'CHP': 0, 'HDP': 0}),\n",
       "  Individual({'CHP': 0, 'HDP': 0}),\n",
       "  Individual({'CHP': 0, 'HDP': 0}),\n",
       "  Individual({'CHP': 0, 'HDP': 0})],\n",
       " [{'gen': 0, 'nevals': 50},\n",
       "  {'gen': 1, 'nevals': 15},\n",
       "  {'gen': 2, 'nevals': 13},\n",
       "  {'gen': 3, 'nevals': 13},\n",
       "  {'gen': 4, 'nevals': 9},\n",
       "  {'gen': 5, 'nevals': 14},\n",
       "  {'gen': 6, 'nevals': 9},\n",
       "  {'gen': 7, 'nevals': 9},\n",
       "  {'gen': 8, 'nevals': 9},\n",
       "  {'gen': 9, 'nevals': 14},\n",
       "  {'gen': 10, 'nevals': 7},\n",
       "  {'gen': 11, 'nevals': 12},\n",
       "  {'gen': 12, 'nevals': 8},\n",
       "  {'gen': 13, 'nevals': 9},\n",
       "  {'gen': 14, 'nevals': 9},\n",
       "  {'gen': 15, 'nevals': 11},\n",
       "  {'gen': 16, 'nevals': 12},\n",
       "  {'gen': 17, 'nevals': 11},\n",
       "  {'gen': 18, 'nevals': 9},\n",
       "  {'gen': 19, 'nevals': 13},\n",
       "  {'gen': 20, 'nevals': 10},\n",
       "  {'gen': 21, 'nevals': 9},\n",
       "  {'gen': 22, 'nevals': 15},\n",
       "  {'gen': 23, 'nevals': 14},\n",
       "  {'gen': 24, 'nevals': 11},\n",
       "  {'gen': 25, 'nevals': 14},\n",
       "  {'gen': 26, 'nevals': 10},\n",
       "  {'gen': 27, 'nevals': 14},\n",
       "  {'gen': 28, 'nevals': 10},\n",
       "  {'gen': 29, 'nevals': 13},\n",
       "  {'gen': 30, 'nevals': 11},\n",
       "  {'gen': 31, 'nevals': 13},\n",
       "  {'gen': 32, 'nevals': 13},\n",
       "  {'gen': 33, 'nevals': 12},\n",
       "  {'gen': 34, 'nevals': 14},\n",
       "  {'gen': 35, 'nevals': 14},\n",
       "  {'gen': 36, 'nevals': 11},\n",
       "  {'gen': 37, 'nevals': 10},\n",
       "  {'gen': 38, 'nevals': 11},\n",
       "  {'gen': 39, 'nevals': 13},\n",
       "  {'gen': 40, 'nevals': 11},\n",
       "  {'gen': 41, 'nevals': 15},\n",
       "  {'gen': 42, 'nevals': 12},\n",
       "  {'gen': 43, 'nevals': 10},\n",
       "  {'gen': 44, 'nevals': 10},\n",
       "  {'gen': 45, 'nevals': 11},\n",
       "  {'gen': 46, 'nevals': 13},\n",
       "  {'gen': 47, 'nevals': 12},\n",
       "  {'gen': 48, 'nevals': 11},\n",
       "  {'gen': 49, 'nevals': 11},\n",
       "  {'gen': 50, 'nevals': 11},\n",
       "  {'gen': 51, 'nevals': 13},\n",
       "  {'gen': 52, 'nevals': 11},\n",
       "  {'gen': 53, 'nevals': 10},\n",
       "  {'gen': 54, 'nevals': 13},\n",
       "  {'gen': 55, 'nevals': 9},\n",
       "  {'gen': 56, 'nevals': 13},\n",
       "  {'gen': 57, 'nevals': 10},\n",
       "  {'gen': 58, 'nevals': 12},\n",
       "  {'gen': 59, 'nevals': 11},\n",
       "  {'gen': 60, 'nevals': 13},\n",
       "  {'gen': 61, 'nevals': 12},\n",
       "  {'gen': 62, 'nevals': 10},\n",
       "  {'gen': 63, 'nevals': 10},\n",
       "  {'gen': 64, 'nevals': 12},\n",
       "  {'gen': 65, 'nevals': 15},\n",
       "  {'gen': 66, 'nevals': 15},\n",
       "  {'gen': 67, 'nevals': 14},\n",
       "  {'gen': 68, 'nevals': 12},\n",
       "  {'gen': 69, 'nevals': 10},\n",
       "  {'gen': 70, 'nevals': 12},\n",
       "  {'gen': 71, 'nevals': 11},\n",
       "  {'gen': 72, 'nevals': 12},\n",
       "  {'gen': 73, 'nevals': 10},\n",
       "  {'gen': 74, 'nevals': 11},\n",
       "  {'gen': 75, 'nevals': 14},\n",
       "  {'gen': 76, 'nevals': 11},\n",
       "  {'gen': 77, 'nevals': 16},\n",
       "  {'gen': 78, 'nevals': 9},\n",
       "  {'gen': 79, 'nevals': 10},\n",
       "  {'gen': 80, 'nevals': 12},\n",
       "  {'gen': 81, 'nevals': 16},\n",
       "  {'gen': 82, 'nevals': 14},\n",
       "  {'gen': 83, 'nevals': 10},\n",
       "  {'gen': 84, 'nevals': 16},\n",
       "  {'gen': 85, 'nevals': 9},\n",
       "  {'gen': 86, 'nevals': 11},\n",
       "  {'gen': 87, 'nevals': 13},\n",
       "  {'gen': 88, 'nevals': 10},\n",
       "  {'gen': 89, 'nevals': 12},\n",
       "  {'gen': 90, 'nevals': 10},\n",
       "  {'gen': 91, 'nevals': 11},\n",
       "  {'gen': 92, 'nevals': 16},\n",
       "  {'gen': 93, 'nevals': 11},\n",
       "  {'gen': 94, 'nevals': 7},\n",
       "  {'gen': 95, 'nevals': 12},\n",
       "  {'gen': 96, 'nevals': 9},\n",
       "  {'gen': 97, 'nevals': 12},\n",
       "  {'gen': 98, 'nevals': 11},\n",
       "  {'gen': 99, 'nevals': 10},\n",
       "  {'gen': 100, 'nevals': 10}])"
      ]
     },
     "execution_count": 16,
     "metadata": {},
     "output_type": "execute_result"
    }
   ],
   "source": [
    "hof=tools.ParetoFront()\n",
    "\n",
    "milletvekili_stats = tools.Statistics(key=lambda ind: ind.fitness.values[0])\n",
    "sandik_stats = tools.Statistics(key=lambda ind: ind.fitness.values[1])\n",
    "oy_stats = tools.Statistics(key=lambda ind: ind.fitness.values[2])\n",
    "\n",
    "stats = tools.MultiStatistics(milletvekili=milletvekili_stats,sandik=sandik_stats, oy=oy_stats)\n",
    "stats.register(\"avg\", numpy.mean, axis=0)\n",
    "\n",
    "algorithms.eaMuPlusLambda(pop, toolbox, MU, LAMBDA, CXPB, MUTPB, NGEN,\n",
    "                          stats, halloffame=hof)"
   ]
  },
  {
   "cell_type": "code",
   "execution_count": 17,
   "metadata": {},
   "outputs": [
    {
     "name": "stdout",
     "output_type": "stream",
     "text": [
      "(Individual({'SAADET': 6, 'AKP': 0, '\\xc4\\xb0Y\\xc4\\xb0': 0}), (-36.0, 3.0, 6.0))\n",
      "(Individual({'SAADET': 6, 'CHP': 0, 'HDP': 0}), (-36.0, 3.0, 6.0))\n",
      "(Individual({'SAADET': 6, 'CHP': 0, 'AKP': 0, '\\xc4\\xb0Y\\xc4\\xb0': 0}), (-36.0, 3.0, 6.0))\n",
      "(Individual({'SAADET': 6, 'CHP': 0, 'AKP': 0, '\\xc4\\xb0Y\\xc4\\xb0': 0, 'HDP': 0}), (-36.0, 3.0, 6.0))\n",
      "(Individual({'SAADET': 6, 'AKP': 0, 'HDP': 0}), (-36.0, 3.0, 6.0))\n",
      "(Individual({'SAADET': 6, 'CHP': 0, 'AKP': 0, 'HDP': 0}), (-36.0, 3.0, 6.0))\n",
      "(Individual({'SAADET': 6, 'CHP': 0, '\\xc4\\xb0Y\\xc4\\xb0': 0, 'HDP': 0}), (-36.0, 3.0, 6.0))\n",
      "(Individual({'SAADET': 6, 'CHP': 0, '\\xc4\\xb0Y\\xc4\\xb0': 0}), (-36.0, 3.0, 6.0))\n",
      "(Individual({'AKP': 0, '\\xc4\\xb0Y\\xc4\\xb0': 0, 'HDP': 0}), (-51.0, 0.0, 0.0))\n",
      "(Individual({'SAADET': 0, 'AKP': 0, 'HDP': 0}), (-51.0, 0.0, 0.0))\n",
      "(Individual({'CHP': 0}), (-51.0, 0.0, 0.0))\n",
      "(Individual({'\\xc4\\xb0Y\\xc4\\xb0': 0, 'HDP': 0}), (-51.0, 0.0, 0.0))\n",
      "(Individual({'CHP': 0, 'AKP': 0, 'HDP': 0}), (-51.0, 0.0, 0.0))\n",
      "(Individual({'CHP': 0, 'SAADET': 0}), (-51.0, 0.0, 0.0))\n",
      "(Individual({'CHP': 0, 'SAADET': 0, '\\xc4\\xb0Y\\xc4\\xb0': 0}), (-51.0, 0.0, 0.0))\n",
      "(Individual({'CHP': 0, 'SAADET': 0, 'AKP': 0, '\\xc4\\xb0Y\\xc4\\xb0': 0}), (-51.0, 0.0, 0.0))\n",
      "(Individual({'SAADET': 0, 'AKP': 0, '\\xc4\\xb0Y\\xc4\\xb0': 0}), (-51.0, 0.0, 0.0))\n",
      "(Individual({'SAADET': 0, 'HDP': 0}), (-51.0, 0.0, 0.0))\n",
      "(Individual({'HDP': 0}), (-51.0, 0.0, 0.0))\n",
      "(Individual({'CHP': 0, 'AKP': 0, '\\xc4\\xb0Y\\xc4\\xb0': 0, 'HDP': 0}), (-51.0, 0.0, 0.0))\n",
      "(Individual({'SAADET': 0, 'AKP': 0, '\\xc4\\xb0Y\\xc4\\xb0': 0, 'HDP': 0}), (-51.0, 0.0, 0.0))\n",
      "(Individual({'CHP': 0, '\\xc4\\xb0Y\\xc4\\xb0': 0, 'HDP': 0}), (-51.0, 0.0, 0.0))\n",
      "(Individual({'SAADET': 0, '\\xc4\\xb0Y\\xc4\\xb0': 0, 'HDP': 0}), (-51.0, 0.0, 0.0))\n",
      "(Individual({'CHP': 0, 'SAADET': 0, 'HDP': 0}), (-51.0, 0.0, 0.0))\n",
      "(Individual({'CHP': 0, 'SAADET': 0, 'AKP': 0, '\\xc4\\xb0Y\\xc4\\xb0': 0, 'HDP': 0}), (-51.0, 0.0, 0.0))\n",
      "(Individual({'CHP': 0, 'SAADET': 0, '\\xc4\\xb0Y\\xc4\\xb0': 0, 'HDP': 0}), (-51.0, 0.0, 0.0))\n",
      "(Individual({'CHP': 0, 'SAADET': 0, 'AKP': 0}), (-51.0, 0.0, 0.0))\n",
      "(Individual({'CHP': 0, 'HDP': 0}), (-51.0, 0.0, 0.0))\n",
      "(Individual({'CHP': 0, 'SAADET': 0, 'AKP': 0, 'HDP': 0}), (-51.0, 0.0, 0.0))\n"
     ]
    }
   ],
   "source": [
    "for i in hof:\n",
    "    print(i, i.fitness.values)"
   ]
  },
  {
   "cell_type": "code",
   "execution_count": 18,
   "metadata": {},
   "outputs": [
    {
     "name": "stdout",
     "output_type": "stream",
     "text": [
      "('Best:', Individual({'SAADET': 6, 'AKP': 0, '\\xc4\\xb0Y\\xc4\\xb0': 0}), (-36.0, 3.0, 6.0))\n"
     ]
    }
   ],
   "source": [
    "print(\"Best:\", hof[0], hof[0].fitness.values)\n"
   ]
  },
  {
   "cell_type": "code",
   "execution_count": null,
   "metadata": {
    "collapsed": true
   },
   "outputs": [],
   "source": []
  }
 ],
 "metadata": {
  "kernelspec": {
   "display_name": "Python 2",
   "language": "python",
   "name": "python2"
  },
  "language_info": {
   "codemirror_mode": {
    "name": "ipython",
    "version": 2
   },
   "file_extension": ".py",
   "mimetype": "text/x-python",
   "name": "python",
   "nbconvert_exporter": "python",
   "pygments_lexer": "ipython2",
   "version": "2.7.14"
  }
 },
 "nbformat": 4,
 "nbformat_minor": 2
}
